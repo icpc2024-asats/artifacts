{
 "cells": [
  {
   "cell_type": "markdown",
   "metadata": {},
   "source": [
    "# Agreement on the taxonomy of ASAT documentation"
   ]
  },
  {
   "cell_type": "markdown",
   "metadata": {},
   "source": [
    "## Package installation and loading"
   ]
  },
  {
   "cell_type": "code",
   "execution_count": 20,
   "metadata": {
    "vscode": {
     "languageId": "r"
    }
   },
   "outputs": [
    {
     "name": "stderr",
     "output_type": "stream",
     "text": [
      "Installation du package dans ‘/usr/local/lib/R/4.3/site-library’\n",
      "(car ‘lib’ n'est pas spécifié)\n",
      "\n",
      "Installation du package dans ‘/usr/local/lib/R/4.3/site-library’\n",
      "(car ‘lib’ n'est pas spécifié)\n",
      "\n",
      "Installation du package dans ‘/usr/local/lib/R/4.3/site-library’\n",
      "(car ‘lib’ n'est pas spécifié)\n",
      "\n"
     ]
    }
   ],
   "source": [
    "install.packages('irr')\n",
    "install.packages('irrCAC')\n",
    "install.packages('tidyverse')"
   ]
  },
  {
   "cell_type": "code",
   "execution_count": 21,
   "metadata": {
    "vscode": {
     "languageId": "r"
    }
   },
   "outputs": [
    {
     "name": "stderr",
     "output_type": "stream",
     "text": [
      "── \u001b[1mAttaching core tidyverse packages\u001b[22m ──────────────────────── tidyverse 2.0.0 ──\n",
      "\u001b[32m✔\u001b[39m \u001b[34mdplyr    \u001b[39m 1.1.3     \u001b[32m✔\u001b[39m \u001b[34mreadr    \u001b[39m 2.1.4\n",
      "\u001b[32m✔\u001b[39m \u001b[34mforcats  \u001b[39m 1.0.0     \u001b[32m✔\u001b[39m \u001b[34mstringr  \u001b[39m 1.5.0\n",
      "\u001b[32m✔\u001b[39m \u001b[34mggplot2  \u001b[39m 3.4.4     \u001b[32m✔\u001b[39m \u001b[34mtibble   \u001b[39m 3.2.1\n",
      "\u001b[32m✔\u001b[39m \u001b[34mlubridate\u001b[39m 1.9.3     \u001b[32m✔\u001b[39m \u001b[34mtidyr    \u001b[39m 1.3.0\n",
      "\u001b[32m✔\u001b[39m \u001b[34mpurrr    \u001b[39m 1.0.2     \n",
      "── \u001b[1mConflicts\u001b[22m ────────────────────────────────────────── tidyverse_conflicts() ──\n",
      "\u001b[31m✖\u001b[39m \u001b[34mdplyr\u001b[39m::\u001b[32mfilter()\u001b[39m masks \u001b[34mstats\u001b[39m::filter()\n",
      "\u001b[31m✖\u001b[39m \u001b[34mdplyr\u001b[39m::\u001b[32mlag()\u001b[39m    masks \u001b[34mstats\u001b[39m::lag()\n",
      "\u001b[36mℹ\u001b[39m Use the conflicted package (\u001b[3m\u001b[34m<http://conflicted.r-lib.org/>\u001b[39m\u001b[23m) to force all conflicts to become errors\n"
     ]
    }
   ],
   "source": [
    "library('irr')\n",
    "library('irrCAC')\n",
    "library('tidyverse')"
   ]
  },
  {
   "cell_type": "markdown",
   "metadata": {},
   "source": [
    "## Functions"
   ]
  },
  {
   "cell_type": "markdown",
   "metadata": {},
   "source": [
    "Multi-label agreement formulae use the code of [https://gdmcdonald.github.io/multi-label-inter-rater-agreement/Multi-Label_Agreement.html](https://gdmcdonald.github.io/multi-label-inter-rater-agreement/Multi-Label_Agreement.html)"
   ]
  },
  {
   "cell_type": "code",
   "execution_count": 14,
   "metadata": {
    "vscode": {
     "languageId": "r"
    }
   },
   "outputs": [],
   "source": [
    "#' Parse string into a character vector\n",
    "#'\n",
    "#' @param x string, e.g. \"label_1, label_2\"\n",
    "#' @param sep separator, e.g. \", \"\n",
    "#'\n",
    "#' @return character vector of labels, e.g. c(\"label_1\", \"label_2\")\n",
    "#' @export\n",
    "#'\n",
    "#' @examples\n",
    "#' elements_from_string(\"l1, l2, l3\", sep = \", \")\n",
    "elements_from_string <- function(x, sep = \", \") {str_split(x,sep,simplify = F)[[1]]}\n",
    "\n",
    "#' Measuring Agreement on Set-valued Items (MASI) distance from text string\n",
    "#' MASI Similarity or Distance (pairwise)\n",
    "#'\n",
    "#' @param x Person x string of labels such as \"label_1, label_2, label_3\"\n",
    "#' @param y Person y string of labels such as \"label_4, label_1, label_5, label_7\"\n",
    "#' @param sep Label separator in the string, default = \", \"\n",
    "#' @param jaccard_only Only return Jaccard index instead of MASI (default = FALSE)\n",
    "#' @param type one of \"dist\" or \"sim\" (default) for a distance or similarity score.\n",
    "#'\n",
    "#' @return Jaccard Distance between the two sets\n",
    "#' @export\n",
    "#'\n",
    "#' @examples\n",
    "#' masi(\"l1, l2, l3\", \"l7, l2\")\n",
    "masi <- function(x,y,sep = \", \", jaccard_only = F, type = \"sim\"){\n",
    "  # Define the labels for each rater\n",
    "  lab_x <- elements_from_string(x)\n",
    "  lab_y <- elements_from_string(y)\n",
    "  \n",
    "  # compute set diff and intersection size\n",
    "  diff_xy_size <- length(setdiff(lab_x,lab_y)) # number of elements in set x but not in set y\n",
    "  diff_yx_size <- length(setdiff(lab_y,lab_x)) # number of elements in set y but not in set x\n",
    "  intersection_size <- length(intersect(lab_x,lab_y)) # number of elements in common between two sets\n",
    "  \n",
    "  # monotonicity simillarity coefficient, M, see http://www.lrec-conf.org/proceedings/lrec2006/pdf/636_pdf.pdf Rebecca Passonneau. 2006. Measuring Agreement on Set-valued Items (MASI) for Semantic and Pragmatic Annotation. In Proceedings of the Fifth International Conference on Language Resources and Evaluation (LREC’06), Genoa, Italy. European Language Resources Association (ELRA).\n",
    "  m_sim <- case_when(\n",
    "    (diff_xy_size == 0) & (diff_yx_size == 0) ~ 1, # the sets are identical, return 1\n",
    "    (diff_xy_size == 0) | (diff_yx_size == 0) ~ 2/3, # one set is a subset of the other, return 2/3\n",
    "    (diff_xy_size != 0) & (diff_yx_size != 0) & (intersection_size !=0) ~ 1/3, # some overlap, some non-overlap in each set, return 1/3\n",
    "    intersection_size ==0 ~ 0 # disjoint sets, return 0\n",
    "  )\n",
    "  \n",
    "  # Calculate Jaccard simmilarity; J=1 means same, J=0 means no overlap at all. See https://en.wikipedia.org/wiki/Jaccard_index\n",
    "  jaccard_sim <- intersection_size/(length(lab_x) + length(lab_y) - intersection_size)\n",
    "  \n",
    "  #MASI sim is M*J; MASI dist is 1-M*J\n",
    "  masi_sim <- if_else(jaccard_only,\n",
    "                      jaccard_sim,\n",
    "                      m_sim*jaccard_sim)\n",
    "  \n",
    "  return(if_else(type == \"sim\",\n",
    "                 masi_sim,\n",
    "                 1-masi_sim))\n",
    "}\n",
    "\n",
    "\n",
    "MASI_simmilarity_matrix <- function(df, sep = \", \") {\n",
    "  labels_all_combos <- sort(unique(unlist(df))) # alphabetical sorted list of all strings of labels\n",
    "  \n",
    "  num_label_combos <- length(labels_all_combos) # number of combinations above\n",
    "  \n",
    "  masi_sim_mat <- matrix(nrow = num_label_combos,\n",
    "                         ncol = num_label_combos,\n",
    "                         dimnames = list(labels_all_combos,\n",
    "                                         labels_all_combos))\n",
    "  \n",
    "  for(i in 1:num_label_combos){\n",
    "    for(j in 1:num_label_combos)\n",
    "    {\n",
    "      masi_sim_mat[i,j] <- masi(x = labels_all_combos[i],\n",
    "                                y = labels_all_combos[j],\n",
    "                                sep = sep)\n",
    "    }}\n",
    "  \n",
    "  return(masi_sim_mat)\n",
    "}"
   ]
  },
  {
   "cell_type": "code",
   "execution_count": 15,
   "metadata": {
    "vscode": {
     "languageId": "r"
    }
   },
   "outputs": [],
   "source": [
    "ml_fleiss_kappa <- function(dataset, sep=\",\") {\n",
    "    wt <- MASI_simmilarity_matrix(dataset, sep=sep)\n",
    "    result <- fleiss.kappa.raw(ratings = dataset, \n",
    "                        weights = wt,\n",
    "                        categ.labels = rownames(wt),\n",
    "                        conflev = 0.95)\n",
    "    return(result)\n",
    "}"
   ]
  },
  {
   "cell_type": "markdown",
   "metadata": {},
   "source": [
    "## Agreement on text coding"
   ]
  },
  {
   "cell_type": "code",
   "execution_count": 11,
   "metadata": {
    "vscode": {
     "languageId": "r"
    }
   },
   "outputs": [],
   "source": [
    "text_r0_r1 <- read.csv(\"text-r0-r1.csv\", sep=\";\")\n",
    "text_r0_r2 <- read.csv(\"text-r0-r2.csv\", sep=\";\")\n",
    "text_r0_r3 <- read.csv(\"text-r0-r3.csv\", sep=\";\")"
   ]
  },
  {
   "cell_type": "code",
   "execution_count": 6,
   "metadata": {
    "vscode": {
     "languageId": "r"
    }
   },
   "outputs": [
    {
     "data": {
      "text/plain": [
       " Cohen's Kappa for 2 Raters (Weights: unweighted)\n",
       "\n",
       " Subjects = 278 \n",
       "   Raters = 2 \n",
       "    Kappa = 0.299 \n",
       "\n",
       "        z = 7.85 \n",
       "  p-value = 4e-15 "
      ]
     },
     "metadata": {},
     "output_type": "display_data"
    }
   ],
   "source": [
    "kappa2(text_r0_r1[, c(\"r0\", \"r1\")], weight = \"unweighted\")"
   ]
  },
  {
   "cell_type": "code",
   "execution_count": 9,
   "metadata": {
    "vscode": {
     "languageId": "r"
    }
   },
   "outputs": [
    {
     "data": {
      "text/plain": [
       " Cohen's Kappa for 2 Raters (Weights: unweighted)\n",
       "\n",
       " Subjects = 185 \n",
       "   Raters = 2 \n",
       "    Kappa = 1 \n",
       "\n",
       "        z = 18.2 \n",
       "  p-value = 0 "
      ]
     },
     "metadata": {},
     "output_type": "display_data"
    }
   ],
   "source": [
    "kappa2(text_r0_r2[, c(\"r0\", \"r2\")], weight = \"unweighted\")"
   ]
  },
  {
   "cell_type": "code",
   "execution_count": 12,
   "metadata": {
    "vscode": {
     "languageId": "r"
    }
   },
   "outputs": [
    {
     "data": {
      "text/plain": [
       " Cohen's Kappa for 2 Raters (Weights: unweighted)\n",
       "\n",
       " Subjects = 428 \n",
       "   Raters = 2 \n",
       "    Kappa = 0.741 \n",
       "\n",
       "        z = 21.4 \n",
       "  p-value = 0 "
      ]
     },
     "metadata": {},
     "output_type": "display_data"
    }
   ],
   "source": [
    "kappa2(text_r0_r3[, c(\"r0\", \"r3\")], weight = \"unweighted\")"
   ]
  },
  {
   "cell_type": "markdown",
   "metadata": {},
   "source": [
    "## Agreement on code coding"
   ]
  },
  {
   "cell_type": "code",
   "execution_count": 34,
   "metadata": {
    "vscode": {
     "languageId": "r"
    }
   },
   "outputs": [],
   "source": [
    "code_r0_r1 <- read.csv(\"code-r0-r1.csv\", sep=\";\")\n",
    "code_r0_r2 <- read.csv(\"code-r0-r2.csv\", sep=\";\")\n",
    "code_r0_r3 <- read.csv(\"code-r0-r3.csv\", sep=\";\")"
   ]
  },
  {
   "cell_type": "code",
   "execution_count": 30,
   "metadata": {
    "vscode": {
     "languageId": "r"
    }
   },
   "outputs": [
    {
     "data": {
      "text/html": [
       "<dl>\n",
       "\t<dt>$est</dt>\n",
       "\t\t<dd><table class=\"dataframe\">\n",
       "<caption>A data.frame: 1 × 8</caption>\n",
       "<thead>\n",
       "\t<tr><th scope=col>coeff.name</th><th scope=col>pa</th><th scope=col>pe</th><th scope=col>coeff.val</th><th scope=col>coeff.se</th><th scope=col>conf.int</th><th scope=col>p.value</th><th scope=col>w.name</th></tr>\n",
       "\t<tr><th scope=col>&lt;chr&gt;</th><th scope=col>&lt;dbl&gt;</th><th scope=col>&lt;dbl&gt;</th><th scope=col>&lt;dbl&gt;</th><th scope=col>&lt;dbl&gt;</th><th scope=col>&lt;chr&gt;</th><th scope=col>&lt;dbl&gt;</th><th scope=col>&lt;chr&gt;</th></tr>\n",
       "</thead>\n",
       "<tbody>\n",
       "\t<tr><td>Fleiss' Kappa</td><td>1</td><td>0.53125</td><td>1</td><td>0</td><td>(1,1)</td><td>0</td><td>Custom Weights</td></tr>\n",
       "</tbody>\n",
       "</table>\n",
       "</dd>\n",
       "\t<dt>$weights</dt>\n",
       "\t\t<dd><table class=\"dataframe\">\n",
       "<caption>A matrix: 2 × 2 of type dbl</caption>\n",
       "<thead>\n",
       "\t<tr><th></th><th scope=col>Fix</th><th scope=col>What</th></tr>\n",
       "</thead>\n",
       "<tbody>\n",
       "\t<tr><th scope=row>Fix</th><td>1</td><td>0</td></tr>\n",
       "\t<tr><th scope=row>What</th><td>0</td><td>1</td></tr>\n",
       "</tbody>\n",
       "</table>\n",
       "</dd>\n",
       "\t<dt>$categories</dt>\n",
       "\t\t<dd><style>\n",
       ".list-inline {list-style: none; margin:0; padding: 0}\n",
       ".list-inline>li {display: inline-block}\n",
       ".list-inline>li:not(:last-child)::after {content: \"\\00b7\"; padding: 0 .5ex}\n",
       "</style>\n",
       "<ol class=list-inline><li>'FIX'</li><li>'WHAT'</li></ol>\n",
       "</dd>\n",
       "</dl>\n"
      ],
      "text/latex": [
       "\\begin{description}\n",
       "\\item[\\$est] A data.frame: 1 × 8\n",
       "\\begin{tabular}{llllllll}\n",
       " coeff.name & pa & pe & coeff.val & coeff.se & conf.int & p.value & w.name\\\\\n",
       " <chr> & <dbl> & <dbl> & <dbl> & <dbl> & <chr> & <dbl> & <chr>\\\\\n",
       "\\hline\n",
       "\t Fleiss' Kappa & 1 & 0.53125 & 1 & 0 & (1,1) & 0 & Custom Weights\\\\\n",
       "\\end{tabular}\n",
       "\n",
       "\\item[\\$weights] A matrix: 2 × 2 of type dbl\n",
       "\\begin{tabular}{r|ll}\n",
       "  & Fix & What\\\\\n",
       "\\hline\n",
       "\tFix & 1 & 0\\\\\n",
       "\tWhat & 0 & 1\\\\\n",
       "\\end{tabular}\n",
       "\n",
       "\\item[\\$categories] \\begin{enumerate*}\n",
       "\\item 'FIX'\n",
       "\\item 'WHAT'\n",
       "\\end{enumerate*}\n",
       "\n",
       "\\end{description}\n"
      ],
      "text/markdown": [
       "$est\n",
       ":   \n",
       "A data.frame: 1 × 8\n",
       "\n",
       "| coeff.name &lt;chr&gt; | pa &lt;dbl&gt; | pe &lt;dbl&gt; | coeff.val &lt;dbl&gt; | coeff.se &lt;dbl&gt; | conf.int &lt;chr&gt; | p.value &lt;dbl&gt; | w.name &lt;chr&gt; |\n",
       "|---|---|---|---|---|---|---|---|\n",
       "| Fleiss' Kappa | 1 | 0.53125 | 1 | 0 | (1,1) | 0 | Custom Weights |\n",
       "\n",
       "\n",
       "$weights\n",
       ":   \n",
       "A matrix: 2 × 2 of type dbl\n",
       "\n",
       "| <!--/--> | Fix | What |\n",
       "|---|---|---|\n",
       "| Fix | 1 | 0 |\n",
       "| What | 0 | 1 |\n",
       "\n",
       "\n",
       "$categories\n",
       ":   1. 'FIX'\n",
       "2. 'WHAT'\n",
       "\n",
       "\n",
       "\n",
       "\n",
       "\n"
      ],
      "text/plain": [
       "$est\n",
       "     coeff.name pa      pe coeff.val coeff.se conf.int p.value         w.name\n",
       "1 Fleiss' Kappa  1 0.53125         1        0    (1,1)       0 Custom Weights\n",
       "\n",
       "$weights\n",
       "     Fix What\n",
       "Fix    1    0\n",
       "What   0    1\n",
       "\n",
       "$categories\n",
       "[1] \"FIX\"  \"WHAT\"\n"
      ]
     },
     "metadata": {},
     "output_type": "display_data"
    }
   ],
   "source": [
    "ml_fleiss_kappa(code_r0_r1[, c(\"r0\", \"r1\")], sep=\",\")"
   ]
  },
  {
   "cell_type": "code",
   "execution_count": 31,
   "metadata": {
    "vscode": {
     "languageId": "r"
    }
   },
   "outputs": [
    {
     "data": {
      "text/html": [
       "<dl>\n",
       "\t<dt>$est</dt>\n",
       "\t\t<dd><table class=\"dataframe\">\n",
       "<caption>A data.frame: 1 × 8</caption>\n",
       "<thead>\n",
       "\t<tr><th scope=col>coeff.name</th><th scope=col>pa</th><th scope=col>pe</th><th scope=col>coeff.val</th><th scope=col>coeff.se</th><th scope=col>conf.int</th><th scope=col>p.value</th><th scope=col>w.name</th></tr>\n",
       "\t<tr><th scope=col>&lt;chr&gt;</th><th scope=col>&lt;dbl&gt;</th><th scope=col>&lt;dbl&gt;</th><th scope=col>&lt;dbl&gt;</th><th scope=col>&lt;dbl&gt;</th><th scope=col>&lt;chr&gt;</th><th scope=col>&lt;dbl&gt;</th><th scope=col>&lt;chr&gt;</th></tr>\n",
       "</thead>\n",
       "<tbody>\n",
       "\t<tr><td>Fleiss' Kappa</td><td>0.8666667</td><td>0.5466667</td><td>0.70588</td><td>0.30991</td><td>(-0.155,1)</td><td>0.0850041</td><td>Custom Weights</td></tr>\n",
       "</tbody>\n",
       "</table>\n",
       "</dd>\n",
       "\t<dt>$weights</dt>\n",
       "\t\t<dd><table class=\"dataframe\">\n",
       "<caption>A matrix: 3 × 3 of type dbl</caption>\n",
       "<thead>\n",
       "\t<tr><th></th><th scope=col>Fix</th><th scope=col>What</th><th scope=col>What, Fix</th></tr>\n",
       "</thead>\n",
       "<tbody>\n",
       "\t<tr><th scope=row>Fix</th><td>1.0000000</td><td>0.0000000</td><td>0.3333333</td></tr>\n",
       "\t<tr><th scope=row>What</th><td>0.0000000</td><td>1.0000000</td><td>0.3333333</td></tr>\n",
       "\t<tr><th scope=row>What, Fix</th><td>0.3333333</td><td>0.3333333</td><td>1.0000000</td></tr>\n",
       "</tbody>\n",
       "</table>\n",
       "</dd>\n",
       "\t<dt>$categories</dt>\n",
       "\t\t<dd><style>\n",
       ".list-inline {list-style: none; margin:0; padding: 0}\n",
       ".list-inline>li {display: inline-block}\n",
       ".list-inline>li:not(:last-child)::after {content: \"\\00b7\"; padding: 0 .5ex}\n",
       "</style>\n",
       "<ol class=list-inline><li>'FIX'</li><li>'WHAT'</li><li>'WHAT, FIX'</li></ol>\n",
       "</dd>\n",
       "</dl>\n"
      ],
      "text/latex": [
       "\\begin{description}\n",
       "\\item[\\$est] A data.frame: 1 × 8\n",
       "\\begin{tabular}{llllllll}\n",
       " coeff.name & pa & pe & coeff.val & coeff.se & conf.int & p.value & w.name\\\\\n",
       " <chr> & <dbl> & <dbl> & <dbl> & <dbl> & <chr> & <dbl> & <chr>\\\\\n",
       "\\hline\n",
       "\t Fleiss' Kappa & 0.8666667 & 0.5466667 & 0.70588 & 0.30991 & (-0.155,1) & 0.0850041 & Custom Weights\\\\\n",
       "\\end{tabular}\n",
       "\n",
       "\\item[\\$weights] A matrix: 3 × 3 of type dbl\n",
       "\\begin{tabular}{r|lll}\n",
       "  & Fix & What & What, Fix\\\\\n",
       "\\hline\n",
       "\tFix & 1.0000000 & 0.0000000 & 0.3333333\\\\\n",
       "\tWhat & 0.0000000 & 1.0000000 & 0.3333333\\\\\n",
       "\tWhat, Fix & 0.3333333 & 0.3333333 & 1.0000000\\\\\n",
       "\\end{tabular}\n",
       "\n",
       "\\item[\\$categories] \\begin{enumerate*}\n",
       "\\item 'FIX'\n",
       "\\item 'WHAT'\n",
       "\\item 'WHAT, FIX'\n",
       "\\end{enumerate*}\n",
       "\n",
       "\\end{description}\n"
      ],
      "text/markdown": [
       "$est\n",
       ":   \n",
       "A data.frame: 1 × 8\n",
       "\n",
       "| coeff.name &lt;chr&gt; | pa &lt;dbl&gt; | pe &lt;dbl&gt; | coeff.val &lt;dbl&gt; | coeff.se &lt;dbl&gt; | conf.int &lt;chr&gt; | p.value &lt;dbl&gt; | w.name &lt;chr&gt; |\n",
       "|---|---|---|---|---|---|---|---|\n",
       "| Fleiss' Kappa | 0.8666667 | 0.5466667 | 0.70588 | 0.30991 | (-0.155,1) | 0.0850041 | Custom Weights |\n",
       "\n",
       "\n",
       "$weights\n",
       ":   \n",
       "A matrix: 3 × 3 of type dbl\n",
       "\n",
       "| <!--/--> | Fix | What | What, Fix |\n",
       "|---|---|---|---|\n",
       "| Fix | 1.0000000 | 0.0000000 | 0.3333333 |\n",
       "| What | 0.0000000 | 1.0000000 | 0.3333333 |\n",
       "| What, Fix | 0.3333333 | 0.3333333 | 1.0000000 |\n",
       "\n",
       "\n",
       "$categories\n",
       ":   1. 'FIX'\n",
       "2. 'WHAT'\n",
       "3. 'WHAT, FIX'\n",
       "\n",
       "\n",
       "\n",
       "\n",
       "\n"
      ],
      "text/plain": [
       "$est\n",
       "     coeff.name        pa        pe coeff.val coeff.se   conf.int   p.value\n",
       "1 Fleiss' Kappa 0.8666667 0.5466667   0.70588  0.30991 (-0.155,1) 0.0850041\n",
       "          w.name\n",
       "1 Custom Weights\n",
       "\n",
       "$weights\n",
       "                Fix      What What, Fix\n",
       "Fix       1.0000000 0.0000000 0.3333333\n",
       "What      0.0000000 1.0000000 0.3333333\n",
       "What, Fix 0.3333333 0.3333333 1.0000000\n",
       "\n",
       "$categories\n",
       "[1] \"FIX\"       \"WHAT\"      \"WHAT, FIX\"\n"
      ]
     },
     "metadata": {},
     "output_type": "display_data"
    }
   ],
   "source": [
    "ml_fleiss_kappa(code_r0_r2[, c(\"r0\", \"r2\")], sep=\",\")"
   ]
  },
  {
   "cell_type": "code",
   "execution_count": 35,
   "metadata": {
    "vscode": {
     "languageId": "r"
    }
   },
   "outputs": [
    {
     "data": {
      "text/html": [
       "<dl>\n",
       "\t<dt>$est</dt>\n",
       "\t\t<dd><table class=\"dataframe\">\n",
       "<caption>A data.frame: 1 × 8</caption>\n",
       "<thead>\n",
       "\t<tr><th scope=col>coeff.name</th><th scope=col>pa</th><th scope=col>pe</th><th scope=col>coeff.val</th><th scope=col>coeff.se</th><th scope=col>conf.int</th><th scope=col>p.value</th><th scope=col>w.name</th></tr>\n",
       "\t<tr><th scope=col>&lt;chr&gt;</th><th scope=col>&lt;dbl&gt;</th><th scope=col>&lt;dbl&gt;</th><th scope=col>&lt;dbl&gt;</th><th scope=col>&lt;dbl&gt;</th><th scope=col>&lt;chr&gt;</th><th scope=col>&lt;dbl&gt;</th><th scope=col>&lt;chr&gt;</th></tr>\n",
       "</thead>\n",
       "<tbody>\n",
       "\t<tr><td>Fleiss' Kappa</td><td>1</td><td>0.53125</td><td>1</td><td>0</td><td>(1,1)</td><td>0</td><td>Custom Weights</td></tr>\n",
       "</tbody>\n",
       "</table>\n",
       "</dd>\n",
       "\t<dt>$weights</dt>\n",
       "\t\t<dd><table class=\"dataframe\">\n",
       "<caption>A matrix: 2 × 2 of type dbl</caption>\n",
       "<thead>\n",
       "\t<tr><th></th><th scope=col>Fix</th><th scope=col>What</th></tr>\n",
       "</thead>\n",
       "<tbody>\n",
       "\t<tr><th scope=row>Fix</th><td>1</td><td>0</td></tr>\n",
       "\t<tr><th scope=row>What</th><td>0</td><td>1</td></tr>\n",
       "</tbody>\n",
       "</table>\n",
       "</dd>\n",
       "\t<dt>$categories</dt>\n",
       "\t\t<dd><style>\n",
       ".list-inline {list-style: none; margin:0; padding: 0}\n",
       ".list-inline>li {display: inline-block}\n",
       ".list-inline>li:not(:last-child)::after {content: \"\\00b7\"; padding: 0 .5ex}\n",
       "</style>\n",
       "<ol class=list-inline><li>'FIX'</li><li>'WHAT'</li></ol>\n",
       "</dd>\n",
       "</dl>\n"
      ],
      "text/latex": [
       "\\begin{description}\n",
       "\\item[\\$est] A data.frame: 1 × 8\n",
       "\\begin{tabular}{llllllll}\n",
       " coeff.name & pa & pe & coeff.val & coeff.se & conf.int & p.value & w.name\\\\\n",
       " <chr> & <dbl> & <dbl> & <dbl> & <dbl> & <chr> & <dbl> & <chr>\\\\\n",
       "\\hline\n",
       "\t Fleiss' Kappa & 1 & 0.53125 & 1 & 0 & (1,1) & 0 & Custom Weights\\\\\n",
       "\\end{tabular}\n",
       "\n",
       "\\item[\\$weights] A matrix: 2 × 2 of type dbl\n",
       "\\begin{tabular}{r|ll}\n",
       "  & Fix & What\\\\\n",
       "\\hline\n",
       "\tFix & 1 & 0\\\\\n",
       "\tWhat & 0 & 1\\\\\n",
       "\\end{tabular}\n",
       "\n",
       "\\item[\\$categories] \\begin{enumerate*}\n",
       "\\item 'FIX'\n",
       "\\item 'WHAT'\n",
       "\\end{enumerate*}\n",
       "\n",
       "\\end{description}\n"
      ],
      "text/markdown": [
       "$est\n",
       ":   \n",
       "A data.frame: 1 × 8\n",
       "\n",
       "| coeff.name &lt;chr&gt; | pa &lt;dbl&gt; | pe &lt;dbl&gt; | coeff.val &lt;dbl&gt; | coeff.se &lt;dbl&gt; | conf.int &lt;chr&gt; | p.value &lt;dbl&gt; | w.name &lt;chr&gt; |\n",
       "|---|---|---|---|---|---|---|---|\n",
       "| Fleiss' Kappa | 1 | 0.53125 | 1 | 0 | (1,1) | 0 | Custom Weights |\n",
       "\n",
       "\n",
       "$weights\n",
       ":   \n",
       "A matrix: 2 × 2 of type dbl\n",
       "\n",
       "| <!--/--> | Fix | What |\n",
       "|---|---|---|\n",
       "| Fix | 1 | 0 |\n",
       "| What | 0 | 1 |\n",
       "\n",
       "\n",
       "$categories\n",
       ":   1. 'FIX'\n",
       "2. 'WHAT'\n",
       "\n",
       "\n",
       "\n",
       "\n",
       "\n"
      ],
      "text/plain": [
       "$est\n",
       "     coeff.name pa      pe coeff.val coeff.se conf.int p.value         w.name\n",
       "1 Fleiss' Kappa  1 0.53125         1        0    (1,1)       0 Custom Weights\n",
       "\n",
       "$weights\n",
       "     Fix What\n",
       "Fix    1    0\n",
       "What   0    1\n",
       "\n",
       "$categories\n",
       "[1] \"FIX\"  \"WHAT\"\n"
      ]
     },
     "metadata": {},
     "output_type": "display_data"
    }
   ],
   "source": [
    "ml_fleiss_kappa(code_r0_r3[, c(\"r0\", \"r3\")], sep=\",\")"
   ]
  },
  {
   "cell_type": "markdown",
   "metadata": {},
   "source": [
    "## Agreement on link coding"
   ]
  },
  {
   "cell_type": "code",
   "execution_count": 43,
   "metadata": {
    "vscode": {
     "languageId": "r"
    }
   },
   "outputs": [],
   "source": [
    "link_r0_r1 <- read.csv(\"link-r0-r1.csv\", sep=\";\")\n",
    "link_r0_r2 <- read.csv(\"link-r0-r2.csv\", sep=\";\")\n",
    "link_r0_r3 <- read.csv(\"link-r0-r3.csv\", sep=\";\")"
   ]
  },
  {
   "cell_type": "code",
   "execution_count": 38,
   "metadata": {
    "vscode": {
     "languageId": "r"
    }
   },
   "outputs": [
    {
     "data": {
      "text/html": [
       "<dl>\n",
       "\t<dt>$est</dt>\n",
       "\t\t<dd><table class=\"dataframe\">\n",
       "<caption>A data.frame: 1 × 8</caption>\n",
       "<thead>\n",
       "\t<tr><th scope=col>coeff.name</th><th scope=col>pa</th><th scope=col>pe</th><th scope=col>coeff.val</th><th scope=col>coeff.se</th><th scope=col>conf.int</th><th scope=col>p.value</th><th scope=col>w.name</th></tr>\n",
       "\t<tr><th scope=col>&lt;chr&gt;</th><th scope=col>&lt;dbl&gt;</th><th scope=col>&lt;dbl&gt;</th><th scope=col>&lt;dbl&gt;</th><th scope=col>&lt;dbl&gt;</th><th scope=col>&lt;chr&gt;</th><th scope=col>&lt;dbl&gt;</th><th scope=col>&lt;chr&gt;</th></tr>\n",
       "</thead>\n",
       "<tbody>\n",
       "\t<tr><td>Fleiss' Kappa</td><td>0.4351852</td><td>0.412037</td><td>0.03937</td><td>0.20818</td><td>(-0.419,0.498)</td><td>0.8534469</td><td>Custom Weights</td></tr>\n",
       "</tbody>\n",
       "</table>\n",
       "</dd>\n",
       "\t<dt>$weights</dt>\n",
       "\t\t<dd><table class=\"dataframe\">\n",
       "<caption>A matrix: 5 × 5 of type dbl</caption>\n",
       "<thead>\n",
       "\t<tr><th></th><th scope=col>Fix</th><th scope=col>What</th><th scope=col>What, Why</th><th scope=col>What, Why, Fix</th><th scope=col>Why</th></tr>\n",
       "</thead>\n",
       "<tbody>\n",
       "\t<tr><th scope=row>Fix</th><td>1.0000000</td><td>0.0000000</td><td>0.0000000</td><td>0.2222222</td><td>0.0000000</td></tr>\n",
       "\t<tr><th scope=row>What</th><td>0.0000000</td><td>1.0000000</td><td>0.3333333</td><td>0.2222222</td><td>0.0000000</td></tr>\n",
       "\t<tr><th scope=row>What, Why</th><td>0.0000000</td><td>0.3333333</td><td>1.0000000</td><td>0.4444444</td><td>0.3333333</td></tr>\n",
       "\t<tr><th scope=row>What, Why, Fix</th><td>0.2222222</td><td>0.2222222</td><td>0.4444444</td><td>1.0000000</td><td>0.2222222</td></tr>\n",
       "\t<tr><th scope=row>Why</th><td>0.0000000</td><td>0.0000000</td><td>0.3333333</td><td>0.2222222</td><td>1.0000000</td></tr>\n",
       "</tbody>\n",
       "</table>\n",
       "</dd>\n",
       "\t<dt>$categories</dt>\n",
       "\t\t<dd><style>\n",
       ".list-inline {list-style: none; margin:0; padding: 0}\n",
       ".list-inline>li {display: inline-block}\n",
       ".list-inline>li:not(:last-child)::after {content: \"\\00b7\"; padding: 0 .5ex}\n",
       "</style>\n",
       "<ol class=list-inline><li>'FIX'</li><li>'WHAT'</li><li>'WHAT, WHY'</li><li>'WHAT, WHY, FIX'</li><li>'WHY'</li></ol>\n",
       "</dd>\n",
       "</dl>\n"
      ],
      "text/latex": [
       "\\begin{description}\n",
       "\\item[\\$est] A data.frame: 1 × 8\n",
       "\\begin{tabular}{llllllll}\n",
       " coeff.name & pa & pe & coeff.val & coeff.se & conf.int & p.value & w.name\\\\\n",
       " <chr> & <dbl> & <dbl> & <dbl> & <dbl> & <chr> & <dbl> & <chr>\\\\\n",
       "\\hline\n",
       "\t Fleiss' Kappa & 0.4351852 & 0.412037 & 0.03937 & 0.20818 & (-0.419,0.498) & 0.8534469 & Custom Weights\\\\\n",
       "\\end{tabular}\n",
       "\n",
       "\\item[\\$weights] A matrix: 5 × 5 of type dbl\n",
       "\\begin{tabular}{r|lllll}\n",
       "  & Fix & What & What, Why & What, Why, Fix & Why\\\\\n",
       "\\hline\n",
       "\tFix & 1.0000000 & 0.0000000 & 0.0000000 & 0.2222222 & 0.0000000\\\\\n",
       "\tWhat & 0.0000000 & 1.0000000 & 0.3333333 & 0.2222222 & 0.0000000\\\\\n",
       "\tWhat, Why & 0.0000000 & 0.3333333 & 1.0000000 & 0.4444444 & 0.3333333\\\\\n",
       "\tWhat, Why, Fix & 0.2222222 & 0.2222222 & 0.4444444 & 1.0000000 & 0.2222222\\\\\n",
       "\tWhy & 0.0000000 & 0.0000000 & 0.3333333 & 0.2222222 & 1.0000000\\\\\n",
       "\\end{tabular}\n",
       "\n",
       "\\item[\\$categories] \\begin{enumerate*}\n",
       "\\item 'FIX'\n",
       "\\item 'WHAT'\n",
       "\\item 'WHAT, WHY'\n",
       "\\item 'WHAT, WHY, FIX'\n",
       "\\item 'WHY'\n",
       "\\end{enumerate*}\n",
       "\n",
       "\\end{description}\n"
      ],
      "text/markdown": [
       "$est\n",
       ":   \n",
       "A data.frame: 1 × 8\n",
       "\n",
       "| coeff.name &lt;chr&gt; | pa &lt;dbl&gt; | pe &lt;dbl&gt; | coeff.val &lt;dbl&gt; | coeff.se &lt;dbl&gt; | conf.int &lt;chr&gt; | p.value &lt;dbl&gt; | w.name &lt;chr&gt; |\n",
       "|---|---|---|---|---|---|---|---|\n",
       "| Fleiss' Kappa | 0.4351852 | 0.412037 | 0.03937 | 0.20818 | (-0.419,0.498) | 0.8534469 | Custom Weights |\n",
       "\n",
       "\n",
       "$weights\n",
       ":   \n",
       "A matrix: 5 × 5 of type dbl\n",
       "\n",
       "| <!--/--> | Fix | What | What, Why | What, Why, Fix | Why |\n",
       "|---|---|---|---|---|---|\n",
       "| Fix | 1.0000000 | 0.0000000 | 0.0000000 | 0.2222222 | 0.0000000 |\n",
       "| What | 0.0000000 | 1.0000000 | 0.3333333 | 0.2222222 | 0.0000000 |\n",
       "| What, Why | 0.0000000 | 0.3333333 | 1.0000000 | 0.4444444 | 0.3333333 |\n",
       "| What, Why, Fix | 0.2222222 | 0.2222222 | 0.4444444 | 1.0000000 | 0.2222222 |\n",
       "| Why | 0.0000000 | 0.0000000 | 0.3333333 | 0.2222222 | 1.0000000 |\n",
       "\n",
       "\n",
       "$categories\n",
       ":   1. 'FIX'\n",
       "2. 'WHAT'\n",
       "3. 'WHAT, WHY'\n",
       "4. 'WHAT, WHY, FIX'\n",
       "5. 'WHY'\n",
       "\n",
       "\n",
       "\n",
       "\n",
       "\n"
      ],
      "text/plain": [
       "$est\n",
       "     coeff.name        pa       pe coeff.val coeff.se       conf.int   p.value\n",
       "1 Fleiss' Kappa 0.4351852 0.412037   0.03937  0.20818 (-0.419,0.498) 0.8534469\n",
       "          w.name\n",
       "1 Custom Weights\n",
       "\n",
       "$weights\n",
       "                     Fix      What What, Why What, Why, Fix       Why\n",
       "Fix            1.0000000 0.0000000 0.0000000      0.2222222 0.0000000\n",
       "What           0.0000000 1.0000000 0.3333333      0.2222222 0.0000000\n",
       "What, Why      0.0000000 0.3333333 1.0000000      0.4444444 0.3333333\n",
       "What, Why, Fix 0.2222222 0.2222222 0.4444444      1.0000000 0.2222222\n",
       "Why            0.0000000 0.0000000 0.3333333      0.2222222 1.0000000\n",
       "\n",
       "$categories\n",
       "[1] \"FIX\"            \"WHAT\"           \"WHAT, WHY\"      \"WHAT, WHY, FIX\"\n",
       "[5] \"WHY\"           \n"
      ]
     },
     "metadata": {},
     "output_type": "display_data"
    }
   ],
   "source": [
    "ml_fleiss_kappa(link_r0_r1[, c(\"r0\", \"r1\")], sep=\",\")"
   ]
  },
  {
   "cell_type": "code",
   "execution_count": 41,
   "metadata": {
    "vscode": {
     "languageId": "r"
    }
   },
   "outputs": [
    {
     "data": {
      "text/html": [
       "<dl>\n",
       "\t<dt>$est</dt>\n",
       "\t\t<dd><table class=\"dataframe\">\n",
       "<caption>A data.frame: 1 × 8</caption>\n",
       "<thead>\n",
       "\t<tr><th scope=col>coeff.name</th><th scope=col>pa</th><th scope=col>pe</th><th scope=col>coeff.val</th><th scope=col>coeff.se</th><th scope=col>conf.int</th><th scope=col>p.value</th><th scope=col>w.name</th></tr>\n",
       "\t<tr><th scope=col>&lt;chr&gt;</th><th scope=col>&lt;dbl&gt;</th><th scope=col>&lt;dbl&gt;</th><th scope=col>&lt;dbl&gt;</th><th scope=col>&lt;dbl&gt;</th><th scope=col>&lt;chr&gt;</th><th scope=col>&lt;dbl&gt;</th><th scope=col>&lt;chr&gt;</th></tr>\n",
       "</thead>\n",
       "<tbody>\n",
       "\t<tr><td>Fleiss' Kappa</td><td>0.5833333</td><td>0.3755556</td><td>0.33274</td><td>0.35767</td><td>(-0.66,1)</td><td>0.4048752</td><td>Custom Weights</td></tr>\n",
       "</tbody>\n",
       "</table>\n",
       "</dd>\n",
       "\t<dt>$weights</dt>\n",
       "\t\t<dd><table class=\"dataframe\">\n",
       "<caption>A matrix: 6 × 6 of type dbl</caption>\n",
       "<thead>\n",
       "\t<tr><th></th><th scope=col></th><th scope=col>Fix</th><th scope=col>What</th><th scope=col>What, Why</th><th scope=col>What, Why, Fix</th><th scope=col>Why</th></tr>\n",
       "</thead>\n",
       "<tbody>\n",
       "\t<tr><th scope=row></th><td>1</td><td>0.0000000</td><td>0.0000000</td><td>0.0000000</td><td>0.0000000</td><td>0.0000000</td></tr>\n",
       "\t<tr><th scope=row>Fix</th><td>0</td><td>1.0000000</td><td>0.0000000</td><td>0.0000000</td><td>0.2222222</td><td>0.0000000</td></tr>\n",
       "\t<tr><th scope=row>What</th><td>0</td><td>0.0000000</td><td>1.0000000</td><td>0.3333333</td><td>0.2222222</td><td>0.0000000</td></tr>\n",
       "\t<tr><th scope=row>What, Why</th><td>0</td><td>0.0000000</td><td>0.3333333</td><td>1.0000000</td><td>0.4444444</td><td>0.3333333</td></tr>\n",
       "\t<tr><th scope=row>What, Why, Fix</th><td>0</td><td>0.2222222</td><td>0.2222222</td><td>0.4444444</td><td>1.0000000</td><td>0.2222222</td></tr>\n",
       "\t<tr><th scope=row>Why</th><td>0</td><td>0.0000000</td><td>0.0000000</td><td>0.3333333</td><td>0.2222222</td><td>1.0000000</td></tr>\n",
       "</tbody>\n",
       "</table>\n",
       "</dd>\n",
       "\t<dt>$categories</dt>\n",
       "\t\t<dd><style>\n",
       ".list-inline {list-style: none; margin:0; padding: 0}\n",
       ".list-inline>li {display: inline-block}\n",
       ".list-inline>li:not(:last-child)::after {content: \"\\00b7\"; padding: 0 .5ex}\n",
       "</style>\n",
       "<ol class=list-inline><li>''</li><li>'FIX'</li><li>'WHAT'</li><li>'WHAT, WHY'</li><li>'WHAT, WHY, FIX'</li><li>'WHY'</li></ol>\n",
       "</dd>\n",
       "</dl>\n"
      ],
      "text/latex": [
       "\\begin{description}\n",
       "\\item[\\$est] A data.frame: 1 × 8\n",
       "\\begin{tabular}{llllllll}\n",
       " coeff.name & pa & pe & coeff.val & coeff.se & conf.int & p.value & w.name\\\\\n",
       " <chr> & <dbl> & <dbl> & <dbl> & <dbl> & <chr> & <dbl> & <chr>\\\\\n",
       "\\hline\n",
       "\t Fleiss' Kappa & 0.5833333 & 0.3755556 & 0.33274 & 0.35767 & (-0.66,1) & 0.4048752 & Custom Weights\\\\\n",
       "\\end{tabular}\n",
       "\n",
       "\\item[\\$weights] A matrix: 6 × 6 of type dbl\n",
       "\\begin{tabular}{r|llllll}\n",
       "  &  & Fix & What & What, Why & What, Why, Fix & Why\\\\\n",
       "\\hline\n",
       "\t & 1 & 0.0000000 & 0.0000000 & 0.0000000 & 0.0000000 & 0.0000000\\\\\n",
       "\tFix & 0 & 1.0000000 & 0.0000000 & 0.0000000 & 0.2222222 & 0.0000000\\\\\n",
       "\tWhat & 0 & 0.0000000 & 1.0000000 & 0.3333333 & 0.2222222 & 0.0000000\\\\\n",
       "\tWhat, Why & 0 & 0.0000000 & 0.3333333 & 1.0000000 & 0.4444444 & 0.3333333\\\\\n",
       "\tWhat, Why, Fix & 0 & 0.2222222 & 0.2222222 & 0.4444444 & 1.0000000 & 0.2222222\\\\\n",
       "\tWhy & 0 & 0.0000000 & 0.0000000 & 0.3333333 & 0.2222222 & 1.0000000\\\\\n",
       "\\end{tabular}\n",
       "\n",
       "\\item[\\$categories] \\begin{enumerate*}\n",
       "\\item ''\n",
       "\\item 'FIX'\n",
       "\\item 'WHAT'\n",
       "\\item 'WHAT, WHY'\n",
       "\\item 'WHAT, WHY, FIX'\n",
       "\\item 'WHY'\n",
       "\\end{enumerate*}\n",
       "\n",
       "\\end{description}\n"
      ],
      "text/markdown": [
       "$est\n",
       ":   \n",
       "A data.frame: 1 × 8\n",
       "\n",
       "| coeff.name &lt;chr&gt; | pa &lt;dbl&gt; | pe &lt;dbl&gt; | coeff.val &lt;dbl&gt; | coeff.se &lt;dbl&gt; | conf.int &lt;chr&gt; | p.value &lt;dbl&gt; | w.name &lt;chr&gt; |\n",
       "|---|---|---|---|---|---|---|---|\n",
       "| Fleiss' Kappa | 0.5833333 | 0.3755556 | 0.33274 | 0.35767 | (-0.66,1) | 0.4048752 | Custom Weights |\n",
       "\n",
       "\n",
       "$weights\n",
       ":   \n",
       "A matrix: 6 × 6 of type dbl\n",
       "\n",
       "| <!--/--> | <!----> | Fix | What | What, Why | What, Why, Fix | Why |\n",
       "|---|---|---|---|---|---|---|\n",
       "| <!----> | 1 | 0.0000000 | 0.0000000 | 0.0000000 | 0.0000000 | 0.0000000 |\n",
       "| Fix | 0 | 1.0000000 | 0.0000000 | 0.0000000 | 0.2222222 | 0.0000000 |\n",
       "| What | 0 | 0.0000000 | 1.0000000 | 0.3333333 | 0.2222222 | 0.0000000 |\n",
       "| What, Why | 0 | 0.0000000 | 0.3333333 | 1.0000000 | 0.4444444 | 0.3333333 |\n",
       "| What, Why, Fix | 0 | 0.2222222 | 0.2222222 | 0.4444444 | 1.0000000 | 0.2222222 |\n",
       "| Why | 0 | 0.0000000 | 0.0000000 | 0.3333333 | 0.2222222 | 1.0000000 |\n",
       "\n",
       "\n",
       "$categories\n",
       ":   1. ''\n",
       "2. 'FIX'\n",
       "3. 'WHAT'\n",
       "4. 'WHAT, WHY'\n",
       "5. 'WHAT, WHY, FIX'\n",
       "6. 'WHY'\n",
       "\n",
       "\n",
       "\n",
       "\n",
       "\n"
      ],
      "text/plain": [
       "$est\n",
       "     coeff.name        pa        pe coeff.val coeff.se  conf.int   p.value\n",
       "1 Fleiss' Kappa 0.5833333 0.3755556   0.33274  0.35767 (-0.66,1) 0.4048752\n",
       "          w.name\n",
       "1 Custom Weights\n",
       "\n",
       "$weights\n",
       "                       Fix      What What, Why What, Why, Fix       Why\n",
       "               1 0.0000000 0.0000000 0.0000000      0.0000000 0.0000000\n",
       "Fix            0 1.0000000 0.0000000 0.0000000      0.2222222 0.0000000\n",
       "What           0 0.0000000 1.0000000 0.3333333      0.2222222 0.0000000\n",
       "What, Why      0 0.0000000 0.3333333 1.0000000      0.4444444 0.3333333\n",
       "What, Why, Fix 0 0.2222222 0.2222222 0.4444444      1.0000000 0.2222222\n",
       "Why            0 0.0000000 0.0000000 0.3333333      0.2222222 1.0000000\n",
       "\n",
       "$categories\n",
       "[1] \"\"               \"FIX\"            \"WHAT\"           \"WHAT, WHY\"     \n",
       "[5] \"WHAT, WHY, FIX\" \"WHY\"           \n"
      ]
     },
     "metadata": {},
     "output_type": "display_data"
    }
   ],
   "source": [
    "ml_fleiss_kappa(link_r0_r2[, c(\"r0\", \"r2\")], sep=\",\")"
   ]
  },
  {
   "cell_type": "code",
   "execution_count": 44,
   "metadata": {
    "vscode": {
     "languageId": "r"
    }
   },
   "outputs": [
    {
     "data": {
      "text/html": [
       "<dl>\n",
       "\t<dt>$est</dt>\n",
       "\t\t<dd><table class=\"dataframe\">\n",
       "<caption>A data.frame: 1 × 8</caption>\n",
       "<thead>\n",
       "\t<tr><th scope=col>coeff.name</th><th scope=col>pa</th><th scope=col>pe</th><th scope=col>coeff.val</th><th scope=col>coeff.se</th><th scope=col>conf.int</th><th scope=col>p.value</th><th scope=col>w.name</th></tr>\n",
       "\t<tr><th scope=col>&lt;chr&gt;</th><th scope=col>&lt;dbl&gt;</th><th scope=col>&lt;dbl&gt;</th><th scope=col>&lt;dbl&gt;</th><th scope=col>&lt;dbl&gt;</th><th scope=col>&lt;chr&gt;</th><th scope=col>&lt;dbl&gt;</th><th scope=col>&lt;chr&gt;</th></tr>\n",
       "</thead>\n",
       "<tbody>\n",
       "\t<tr><td>Fleiss' Kappa</td><td>0.5333333</td><td>0.455</td><td>0.14373</td><td>0.43873</td><td>(-0.849,1)</td><td>0.7507023</td><td>Custom Weights</td></tr>\n",
       "</tbody>\n",
       "</table>\n",
       "</dd>\n",
       "\t<dt>$weights</dt>\n",
       "\t\t<dd><table class=\"dataframe\">\n",
       "<caption>A matrix: 5 × 5 of type dbl</caption>\n",
       "<thead>\n",
       "\t<tr><th></th><th scope=col></th><th scope=col>Fix</th><th scope=col>What</th><th scope=col>What, Fix</th><th scope=col>What, Why</th></tr>\n",
       "</thead>\n",
       "<tbody>\n",
       "\t<tr><th scope=row></th><td>1</td><td>0.0000000</td><td>0.0000000</td><td>0.0000000</td><td>0.0000000</td></tr>\n",
       "\t<tr><th scope=row>Fix</th><td>0</td><td>1.0000000</td><td>0.0000000</td><td>0.3333333</td><td>0.0000000</td></tr>\n",
       "\t<tr><th scope=row>What</th><td>0</td><td>0.0000000</td><td>1.0000000</td><td>0.3333333</td><td>0.3333333</td></tr>\n",
       "\t<tr><th scope=row>What, Fix</th><td>0</td><td>0.3333333</td><td>0.3333333</td><td>1.0000000</td><td>0.1111111</td></tr>\n",
       "\t<tr><th scope=row>What, Why</th><td>0</td><td>0.0000000</td><td>0.3333333</td><td>0.1111111</td><td>1.0000000</td></tr>\n",
       "</tbody>\n",
       "</table>\n",
       "</dd>\n",
       "\t<dt>$categories</dt>\n",
       "\t\t<dd><style>\n",
       ".list-inline {list-style: none; margin:0; padding: 0}\n",
       ".list-inline>li {display: inline-block}\n",
       ".list-inline>li:not(:last-child)::after {content: \"\\00b7\"; padding: 0 .5ex}\n",
       "</style>\n",
       "<ol class=list-inline><li>''</li><li>'FIX'</li><li>'WHAT'</li><li>'WHAT, FIX'</li><li>'WHAT, WHY'</li></ol>\n",
       "</dd>\n",
       "</dl>\n"
      ],
      "text/latex": [
       "\\begin{description}\n",
       "\\item[\\$est] A data.frame: 1 × 8\n",
       "\\begin{tabular}{llllllll}\n",
       " coeff.name & pa & pe & coeff.val & coeff.se & conf.int & p.value & w.name\\\\\n",
       " <chr> & <dbl> & <dbl> & <dbl> & <dbl> & <chr> & <dbl> & <chr>\\\\\n",
       "\\hline\n",
       "\t Fleiss' Kappa & 0.5333333 & 0.455 & 0.14373 & 0.43873 & (-0.849,1) & 0.7507023 & Custom Weights\\\\\n",
       "\\end{tabular}\n",
       "\n",
       "\\item[\\$weights] A matrix: 5 × 5 of type dbl\n",
       "\\begin{tabular}{r|lllll}\n",
       "  &  & Fix & What & What, Fix & What, Why\\\\\n",
       "\\hline\n",
       "\t & 1 & 0.0000000 & 0.0000000 & 0.0000000 & 0.0000000\\\\\n",
       "\tFix & 0 & 1.0000000 & 0.0000000 & 0.3333333 & 0.0000000\\\\\n",
       "\tWhat & 0 & 0.0000000 & 1.0000000 & 0.3333333 & 0.3333333\\\\\n",
       "\tWhat, Fix & 0 & 0.3333333 & 0.3333333 & 1.0000000 & 0.1111111\\\\\n",
       "\tWhat, Why & 0 & 0.0000000 & 0.3333333 & 0.1111111 & 1.0000000\\\\\n",
       "\\end{tabular}\n",
       "\n",
       "\\item[\\$categories] \\begin{enumerate*}\n",
       "\\item ''\n",
       "\\item 'FIX'\n",
       "\\item 'WHAT'\n",
       "\\item 'WHAT, FIX'\n",
       "\\item 'WHAT, WHY'\n",
       "\\end{enumerate*}\n",
       "\n",
       "\\end{description}\n"
      ],
      "text/markdown": [
       "$est\n",
       ":   \n",
       "A data.frame: 1 × 8\n",
       "\n",
       "| coeff.name &lt;chr&gt; | pa &lt;dbl&gt; | pe &lt;dbl&gt; | coeff.val &lt;dbl&gt; | coeff.se &lt;dbl&gt; | conf.int &lt;chr&gt; | p.value &lt;dbl&gt; | w.name &lt;chr&gt; |\n",
       "|---|---|---|---|---|---|---|---|\n",
       "| Fleiss' Kappa | 0.5333333 | 0.455 | 0.14373 | 0.43873 | (-0.849,1) | 0.7507023 | Custom Weights |\n",
       "\n",
       "\n",
       "$weights\n",
       ":   \n",
       "A matrix: 5 × 5 of type dbl\n",
       "\n",
       "| <!--/--> | <!----> | Fix | What | What, Fix | What, Why |\n",
       "|---|---|---|---|---|---|\n",
       "| <!----> | 1 | 0.0000000 | 0.0000000 | 0.0000000 | 0.0000000 |\n",
       "| Fix | 0 | 1.0000000 | 0.0000000 | 0.3333333 | 0.0000000 |\n",
       "| What | 0 | 0.0000000 | 1.0000000 | 0.3333333 | 0.3333333 |\n",
       "| What, Fix | 0 | 0.3333333 | 0.3333333 | 1.0000000 | 0.1111111 |\n",
       "| What, Why | 0 | 0.0000000 | 0.3333333 | 0.1111111 | 1.0000000 |\n",
       "\n",
       "\n",
       "$categories\n",
       ":   1. ''\n",
       "2. 'FIX'\n",
       "3. 'WHAT'\n",
       "4. 'WHAT, FIX'\n",
       "5. 'WHAT, WHY'\n",
       "\n",
       "\n",
       "\n",
       "\n",
       "\n"
      ],
      "text/plain": [
       "$est\n",
       "     coeff.name        pa    pe coeff.val coeff.se   conf.int   p.value\n",
       "1 Fleiss' Kappa 0.5333333 0.455   0.14373  0.43873 (-0.849,1) 0.7507023\n",
       "          w.name\n",
       "1 Custom Weights\n",
       "\n",
       "$weights\n",
       "                  Fix      What What, Fix What, Why\n",
       "          1 0.0000000 0.0000000 0.0000000 0.0000000\n",
       "Fix       0 1.0000000 0.0000000 0.3333333 0.0000000\n",
       "What      0 0.0000000 1.0000000 0.3333333 0.3333333\n",
       "What, Fix 0 0.3333333 0.3333333 1.0000000 0.1111111\n",
       "What, Why 0 0.0000000 0.3333333 0.1111111 1.0000000\n",
       "\n",
       "$categories\n",
       "[1] \"\"          \"FIX\"       \"WHAT\"      \"WHAT, FIX\" \"WHAT, WHY\"\n"
      ]
     },
     "metadata": {},
     "output_type": "display_data"
    }
   ],
   "source": [
    "ml_fleiss_kappa(link_r0_r3[, c(\"r0\", \"r3\")], sep=\",\")"
   ]
  }
 ],
 "metadata": {
  "kernelspec": {
   "display_name": "R",
   "language": "R",
   "name": "ir"
  },
  "language_info": {
   "codemirror_mode": "r",
   "file_extension": ".r",
   "mimetype": "text/x-r-source",
   "name": "R",
   "pygments_lexer": "r",
   "version": "4.3.1"
  }
 },
 "nbformat": 4,
 "nbformat_minor": 2
}
